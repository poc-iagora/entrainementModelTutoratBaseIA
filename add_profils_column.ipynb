{
 "cells": [
  {
   "cell_type": "code",
   "execution_count": 9,
   "id": "bce46006",
   "metadata": {},
   "outputs": [],
   "source": [
    "import pandas as pd\n",
    "\n",
    "# Charger le dataset\n",
    "data = pd.read_csv('dataset-tortuga-filled-modified6.csv')"
   ]
  },
  {
   "cell_type": "code",
   "execution_count": 10,
   "id": "0d11a4ce",
   "metadata": {},
   "outputs": [],
   "source": [
    "# Supprimer la colonne PROFILE\n",
    "data.drop('PROFILE', axis=1, inplace=True)"
   ]
  },
  {
   "cell_type": "code",
   "execution_count": 11,
   "id": "df5573a3",
   "metadata": {},
   "outputs": [],
   "source": [
    "# Fonctions pour déterminer le profil en fonction des critères\n",
    "def determine_profile(hours, beginner_courses, advanced_courses, avg_score, nb_clicks):\n",
    "    # Déterminer la pondération basée sur les heures, les cours et les clics\n",
    "    course_ponderation = hours + (10 * beginner_courses) + (20 * advanced_courses) + nb_clicks\n",
    "    avg_ponderation = avg_score\n",
    "\n",
    "    # Calculer la moyenne pondérée\n",
    "    weighted_avg = (course_ponderation + avg_ponderation) / 2\n",
    "\n",
    "    # Attribuer le profil en fonction de la moyenne pondérée\n",
    "    if weighted_avg < 50:\n",
    "        return 'beginner'\n",
    "    elif 50 <= weighted_avg < 75:\n",
    "        return 'intermediate'\n",
    "    else:\n",
    "        return 'advanced'"
   ]
  },
  {
   "cell_type": "code",
   "execution_count": 12,
   "id": "e09e28b7",
   "metadata": {},
   "outputs": [],
   "source": [
    "# Matières pour lesquelles nous voulons déterminer le profil\n",
    "subjects = [\"DATASCIENCE\", \"BACKEND\", \"FRONTEND\", \"IA\", \"BDD\"]"
   ]
  },
  {
   "cell_type": "code",
   "execution_count": 13,
   "id": "950d61f5",
   "metadata": {},
   "outputs": [],
   "source": [
    "# Calculer le profil pour chaque matière\n",
    "for subject in subjects:\n",
    "    data[f\"PROFIL_{subject}\"] = data.apply(lambda x: determine_profile(\n",
    "        x[f\"HOURS_{subject}\"], \n",
    "        x[f\"NUM_COURSES_BEGINNER_{subject}\"], \n",
    "        x[f\"NUM_COURSES_ADVANCED_{subject}\"],\n",
    "        x[f\"AVG_SCORE_{subject}\"],\n",
    "        x[f\"NB_CLICKS_{subject}\"]\n",
    "    ) + f\"_{subject.lower()}\", axis=1)"
   ]
  },
  {
   "cell_type": "code",
   "execution_count": 14,
   "id": "6685169f",
   "metadata": {},
   "outputs": [],
   "source": [
    "# Sauvegarder le DataFrame mis à jour\n",
    "data.to_csv('dataset-tortuga-filled-modified7.csv', index=False)"
   ]
  },
  {
   "cell_type": "code",
   "execution_count": 7,
   "id": "bbd6f941",
   "metadata": {},
   "outputs": [],
   "source": [
    "# Concatener avec les données existantes\n",
    "combined_data = pd.concat([data, new_df], ignore_index=True)"
   ]
  },
  {
   "cell_type": "code",
   "execution_count": 8,
   "id": "0614bf2f",
   "metadata": {},
   "outputs": [],
   "source": [
    "# Sauvegarder le DataFrame combiné\n",
    "combined_data.to_csv('dataset-tortuga-filled-modified7.csv', index=False)"
   ]
  },
  {
   "cell_type": "code",
   "execution_count": null,
   "id": "32006ef2",
   "metadata": {},
   "outputs": [],
   "source": []
  }
 ],
 "metadata": {
  "kernelspec": {
   "display_name": "Python 3 (ipykernel)",
   "language": "python",
   "name": "python3"
  },
  "language_info": {
   "codemirror_mode": {
    "name": "ipython",
    "version": 3
   },
   "file_extension": ".py",
   "mimetype": "text/x-python",
   "name": "python",
   "nbconvert_exporter": "python",
   "pygments_lexer": "ipython3",
   "version": "3.11.3"
  }
 },
 "nbformat": 4,
 "nbformat_minor": 5
}
